{
 "cells": [
  {
   "cell_type": "code",
   "execution_count": null,
   "metadata": {},
   "outputs": [],
   "source": [
    "import os\n",
    "import numpy as np\n",
    "import tensorflow.keras\n",
    "from tensorflow.keras import backend as K\n",
    "from tensorflow.keras.optimizers import Adam\n",
    "from tensorflow.keras.models import Model\n",
    "from tensorflow.keras.layers import Input,Conv2D,MaxPooling2D,UpSampling2D\n",
    "from img_helper import reduce_to_1\n",
    "import pickle\n",
    "\n",
    "K.set_image_data_format('channels_last')\n",
    "# Fix random seed for reproducibility\n",
    "seed = 7\n",
    "np.random.seed(seed)\n",
    "\n",
    "dataset_npy_path = \"Dataset npys/\"\n",
    "\n",
    "trained_models_path = \"trained models/\"\n",
    "trained_models_history_path = \"trained models history/\"\n",
    "\n",
    "test_ready_models_path = \"test ready models/\"\n",
    "test_ready_models_history_path = \"test ready models history/\""
   ]
  },
  {
   "cell_type": "code",
   "execution_count": null,
   "metadata": {},
   "outputs": [],
   "source": [
    "# Image parameters\n",
    "img_width = 100\n",
    "img_height = img_width\n",
    "img_channels = 3"
   ]
  },
  {
   "cell_type": "code",
   "execution_count": null,
   "metadata": {},
   "outputs": [],
   "source": [
    "train_HSV_Y = np.load(os.path.join(dataset_npy_path,\"train_HSV_Y.npy\"))\n",
    "valid_HSV_Y = np.load(os.path.join(dataset_npy_path,\"valid_HSV_Y.npy\"))\n",
    "\n",
    "train_noisy_HSV_Y = np.load(os.path.join(dataset_npy_path,\"train_noisy_HSV_Y.npy\"))\n",
    "valid_noisy_HSV_Y = np.load(os.path.join(dataset_npy_path,\"valid_noisy_HSV_Y.npy\"))\n",
    "print(\"data loaded\")"
   ]
  },
  {
   "cell_type": "code",
   "execution_count": null,
   "metadata": {},
   "outputs": [],
   "source": [
    "# Convolutional encoder parameters\n",
    "conv_epochs = 20\n",
    "conv_batch_size = 128\n",
    "conv_input_img = Input(shape = (img_width, img_height, 1))\n",
    "\n",
    "# Convolutional encoder architecture\n",
    "def convolutional_autoencoder(conv_input_img):\n",
    "\tconv1 = Conv2D(64, (3, 3), activation='relu', padding='same')(conv_input_img)\n",
    "\tpool1 = MaxPooling2D(pool_size=(2, 2))(conv1)\n",
    "\tconv2 = Conv2D(64, (3, 3), activation='relu', padding='same')(pool1)\n",
    "\tup1 = UpSampling2D((2,2))(conv2)\n",
    "\tconv3 = Conv2D(1, (3, 3), activation='sigmoid', padding='same')(up1)\n",
    "\treturn conv3\n",
    "\n",
    "# Build convolutional model\n",
    "conv_encoder = Model(conv_input_img, convolutional_autoencoder(conv_input_img))\n",
    "conv_encoder.compile(loss='mean_squared_error', optimizer='Adam')"
   ]
  },
  {
   "cell_type": "code",
   "execution_count": null,
   "metadata": {},
   "outputs": [],
   "source": [
    "# Train convolutional model\n",
    "conv_encoder_h = conv_encoder.fit(reduce_to_1(train_noisy_HSV_Y, 2), reduce_to_1(train_HSV_Y, 2),\n",
    "\t\t\t\t\tbatch_size=conv_batch_size,\n",
    "\t\t\t\t\tepochs=conv_epochs,\n",
    "\t\t\t\t\tverbose=1,\n",
    "\t\t\t\t\tvalidation_data=(reduce_to_1(valid_noisy_HSV_Y, 2), reduce_to_1(valid_HSV_Y, 2)))"
   ]
  },
  {
   "cell_type": "code",
   "execution_count": null,
   "metadata": {},
   "outputs": [],
   "source": [
    "conv_encoder.save(os.path.join(trained_models_path,\"conv_encoder.h5\"))\n",
    "print(\"Saved conv_encoder model to disk\")\n",
    "\n",
    "with open(os.path.join(trained_models_history_path,'trainHistoryDict_conv.pkl'), 'wb') as file_pi:\n",
    "        pickle.dump(conv_encoder_h.history, file_pi)"
   ]
  },
  {
   "cell_type": "code",
   "execution_count": null,
   "metadata": {},
   "outputs": [],
   "source": [
    "import shutil\n",
    "test_ready_save_enable = False\n",
    "if test_ready_save_enable:\n",
    "    shutil.copy2(os.path.join(trained_models_path,\"conv_encoder.h5\"), os.path.join(test_ready_models,\"conv_encoder_test.h5\"))\n",
    "    print(\"Saved conv_encoder model test copy to disk\")\n",
    "\n",
    "    shutil.copy2(os.path.join(trained_models_history_path,'trainHistoryDict_conv.pkl'), \n",
    "                 os.path.join(test_ready_models_history_path,'trainHistoryDict_conv_test.pkl'))"
   ]
  }
 ],
 "metadata": {
  "kernelspec": {
   "display_name": "Python 3",
   "language": "python",
   "name": "python3"
  },
  "language_info": {
   "codemirror_mode": {
    "name": "ipython",
    "version": 3
   },
   "file_extension": ".py",
   "mimetype": "text/x-python",
   "name": "python",
   "nbconvert_exporter": "python",
   "pygments_lexer": "ipython3",
   "version": "3.6.6"
  }
 },
 "nbformat": 4,
 "nbformat_minor": 4
}
