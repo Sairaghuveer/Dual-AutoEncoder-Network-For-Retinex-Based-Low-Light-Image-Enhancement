{
 "cells": [
  {
   "cell_type": "code",
   "execution_count": null,
   "metadata": {},
   "outputs": [],
   "source": [
    "import os\n",
    "import numpy as np\n",
    "import tensorflow.keras\n",
    "from tensorflow.keras import backend as K\n",
    "from tensorflow.keras.optimizers import Adam\n",
    "from tensorflow.keras.models import Model\n",
    "from tensorflow.keras.layers import Input, Dense\n",
    "import pickle\n",
    "\n",
    "K.set_image_data_format('channels_last')\n",
    "# Fix random seed for reproducibility\n",
    "seed = 7\n",
    "np.random.seed(seed)\n",
    "\n",
    "dataset_npy_path = \"Dataset npys/\"\n",
    "\n",
    "trained_models_path = \"trained models/\"\n",
    "trained_models_history_path = \"trained models history/\"\n",
    "\n",
    "test_ready_models_path = \"test ready models/\"\n",
    "test_ready_models_history_path = \"test ready models history/\""
   ]
  },
  {
   "cell_type": "code",
   "execution_count": null,
   "metadata": {},
   "outputs": [],
   "source": [
    "# Image parameters\n",
    "img_width = 100\n",
    "img_height = img_width\n",
    "img_channels = 3"
   ]
  },
  {
   "cell_type": "code",
   "execution_count": null,
   "metadata": {},
   "outputs": [],
   "source": [
    "train_HSV_X = np.load(os.path.join(dataset_npy_path,\"train_HSV_X.npy\"))\n",
    "valid_HSV_X = np.load(os.path.join(dataset_npy_path,\"valid_HSV_X.npy\"))\n",
    "\n",
    "train_HSV_Y = np.load(os.path.join(dataset_npy_path,\"train_HSV_Y.npy\"))\n",
    "valid_HSV_Y = np.load(os.path.join(dataset_npy_path,\"valid_HSV_Y.npy\"))\n",
    "print(\"data loaded\")"
   ]
  },
  {
   "cell_type": "code",
   "execution_count": null,
   "metadata": {},
   "outputs": [],
   "source": [
    "# Stacked encoder parameters\n",
    "stack_epochs = 1000\n",
    "stack_batch_size = 512\n",
    "stack_input_img = Input(shape = (img_width, img_height))\n",
    "\n",
    "# Stacked encoder architecture\n",
    "def stacked_autoencoder(stack_input_img):\n",
    "\thidden = Dense(img_width, activation='relu')(stack_input_img)\n",
    "\treturn hidden\n",
    "\n",
    "# Build stacked model\n",
    "stack_encoder = Model(stack_input_img, stacked_autoencoder(stack_input_img))\n",
    "stack_encoder.compile(loss='mean_squared_error', optimizer='Adam')"
   ]
  },
  {
   "cell_type": "code",
   "execution_count": null,
   "metadata": {},
   "outputs": [],
   "source": [
    "# Train stacked model\n",
    "stack_encoder_h = stack_encoder.fit(train_HSV_X[:,:,:,2], train_HSV_Y[:,:,:,2],\n",
    "\t\t\t\t\tbatch_size=stack_batch_size,\n",
    "\t\t\t\t\tepochs=stack_epochs,\n",
    "\t\t\t\t\tverbose=1,\n",
    "\t\t\t\t\tvalidation_data=(valid_HSV_X[:,:,:,2], valid_HSV_Y[:,:,:,2]))"
   ]
  },
  {
   "cell_type": "code",
   "execution_count": null,
   "metadata": {},
   "outputs": [],
   "source": [
    "stack_encoder.save(os.path.join(trained_models_path,\"stack_encoder.h5\"))\n",
    "print(\"Saved stack_encoder model to disk\")\n",
    "\n",
    "with open(os.path.join(trained_models_history_path,'trainHistoryDict_stack.pkl'), 'wb') as file_pi:\n",
    "        pickle.dump(stack_encoder_h.history, file_pi)"
   ]
  },
  {
   "cell_type": "code",
   "execution_count": null,
   "metadata": {},
   "outputs": [],
   "source": [
    "import shutil\n",
    "test_ready_save_enable = False\n",
    "if test_ready_save_enable:\n",
    "    shutil.copy2(os.path.join(trained_models_path,\"stack_encoder.h5\"), os.path.join(test_ready_models,\"stack_encoder_test.h5\"))\n",
    "    print(\"Saved stack_encoder model test copy to disk\")\n",
    "\n",
    "    shutil.copy2(os.path.join(trained_models_history_path,'trainHistoryDict_stack.pkl'), \n",
    "                 os.path.join(test_ready_models_history_path,'trainHistoryDict_stack_test.pkl'))"
   ]
  }
 ],
 "metadata": {
  "kernelspec": {
   "display_name": "Python 3",
   "language": "python",
   "name": "python3"
  },
  "language_info": {
   "codemirror_mode": {
    "name": "ipython",
    "version": 3
   },
   "file_extension": ".py",
   "mimetype": "text/x-python",
   "name": "python",
   "nbconvert_exporter": "python",
   "pygments_lexer": "ipython3",
   "version": "3.6.6"
  }
 },
 "nbformat": 4,
 "nbformat_minor": 4
}
