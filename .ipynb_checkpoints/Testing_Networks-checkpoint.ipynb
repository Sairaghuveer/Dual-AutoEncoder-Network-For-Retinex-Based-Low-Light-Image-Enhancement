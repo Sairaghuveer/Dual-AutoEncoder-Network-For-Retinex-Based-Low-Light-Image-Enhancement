{
 "cells": [
  {
   "cell_type": "code",
   "execution_count": 1,
   "metadata": {},
   "outputs": [],
   "source": [
    "import os\n",
    "import numpy as np\n",
    "import pickle\n",
    "from matplotlib import pyplot as plt\n",
    "\n",
    "from img_helper import reduce_to_1, reduce_to_V, update_V, hsv2rgb_set, create_plot\n",
    "\n",
    "from tensorflow.keras.models import load_model\n",
    "\n",
    "# Fix random seed for reproducibility\n",
    "seed = 7\n",
    "np.random.seed(seed)"
   ]
  },
  {
   "cell_type": "code",
   "execution_count": 2,
   "metadata": {},
   "outputs": [],
   "source": [
    "dataset_npy_path=\"Dataset npys/\"\n",
    "saved_figs_path = \"Results/\"\n",
    "test_ready_models_path = \"test ready models/\"\n",
    "test_ready_models_history_path = \"test ready models history/\""
   ]
  },
  {
   "cell_type": "code",
   "execution_count": null,
   "metadata": {},
   "outputs": [],
   "source": [
    "# load models\n",
    "\n",
    "stack_encoder = load_model(os.path.join(test_ready_models_path,'stack_encoder.h5'))\n",
    "\n",
    "conv_encoder = load_model(os.path.join(test_ready_models_path,'conv_encoder.h5'))\n",
    "\n",
    "# summarize model.\n",
    "\n",
    "stack_encoder.summary()\n",
    "\n",
    "conv_encoder.summary()\n",
    "\n",
    "#load training history\n",
    "\n",
    "with open(os.path.join(test_ready_models_history_path,'trainHistoryDict_stack.pkl'),\"rb\") as f:\n",
    "    history_stack = pickle.load(f)\n",
    "\n",
    "with open(os.path.join(test_ready_models_history_path,'trainHistoryDict_conv.pkl'),\"rb\") as f:\n",
    "    history_conv = pickle.load(f)"
   ]
  },
  {
   "cell_type": "code",
   "execution_count": null,
   "metadata": {},
   "outputs": [],
   "source": [
    "#load data\n",
    "\n",
    "train_RGB_X = np.load(os.path.join(dataset_npy_path,\"train_RGB_X.npy\"))\n",
    "test_RGB_X = np.load(os.path.join(dataset_npy_path,\"test_RGB_X.npy\"))\n",
    "train_HSV_X = np.load(os.path.join(dataset_npy_path,\"train_HSV_X.npy\"))\n",
    "train_HSV_Y = np.load(os.path.join(dataset_npy_path,\"train_HSV_Y.npy\"))\n",
    "train_noisy_HSV_Y = np.load(os.path.join(dataset_npy_path,\"train_noisy_HSV_Y.npy\"))\n",
    "test_HSV_X = np.load(os.path.join(dataset_npy_path,\"test_HSV_X.npy\"))\n",
    "print(\"data loaded\")"
   ]
  },
  {
   "cell_type": "code",
   "execution_count": 8,
   "metadata": {},
   "outputs": [],
   "source": [
    "# Test dual encoder network\n",
    "stack_test_V_Y = stack_encoder.predict(test_HSV_X[:,:,:,2])\n",
    "conv_test_HSV_X = update_V(test_HSV_X, stack_test_V_Y)\n",
    "conv_test_V_Y = conv_encoder.predict(reduce_to_1(conv_test_HSV_X, 2))\n",
    "conv_test_HSV_Y = update_V(conv_test_HSV_X, conv_test_V_Y[:,:,:,0])"
   ]
  },
  {
   "cell_type": "code",
   "execution_count": null,
   "metadata": {},
   "outputs": [],
   "source": [
    "# Modify training images for channel visualization\n",
    "train_V_X = reduce_to_V(train_HSV_X)\n",
    "train_V_Y = reduce_to_V(train_HSV_Y)\n",
    "train_noisy_V_Y = reduce_to_V(train_noisy_HSV_Y)\n",
    "train_rgbV_X = hsv2rgb_set(train_V_X)\n",
    "train_rgbV_Y = hsv2rgb_set(train_V_Y)\n",
    "train_noisy_rgbV_Y = hsv2rgb_set(train_noisy_V_Y)\n",
    "\n",
    "# Create a figure of sample training images \n",
    "plot_data = [train_RGB_X, train_rgbV_X, train_rgbV_Y, train_noisy_rgbV_Y]\n",
    "plot_titles = [\"(a) Original low-light dataset images from ExDark (all colour channels).\",\n",
    "\t\t\"(b) Original images reduced to only luminance channel (value channel of HSV).\",\n",
    "\t\t\"(c) Increased illumination (gamma correction applied to luminance channel).\",\n",
    "\t\t\"(d) Noisy versions (added random Gaussian noise to luminance channel).\"]\n",
    "fig = create_plot(4, 5, plot_data, plot_titles, 10)\n",
    "fig.set_size_inches(8, 8)\n",
    "fig.savefig(os.path.join(saved_figs_path,'training_image_samples.jpg'), dpi=2000)\n",
    "plt.show()"
   ]
  },
  {
   "cell_type": "code",
   "execution_count": null,
   "metadata": {},
   "outputs": [],
   "source": [
    "# Plot stacked encoder metrics\n",
    "stack_fig = plt.figure()\n",
    "plt.plot(history_stack['loss'], label='Training Loss')\n",
    "plt.plot(history_stack['val_loss'], label='Validation Loss')\n",
    "plt.legend(loc='upper right')\n",
    "plt.xlabel('Epochs')\n",
    "plt.ylabel('Mean Squared Error')\n",
    "plt.ylim([0,max(plt.ylim())])\n",
    "plt.title('Stacked Autoencoder Train/Val Loss Metrics')\n",
    "plt.show()\n",
    "stack_fig.savefig(os.path.join(saved_figs_path,'stack_training_metrics.jpg'), dpi=2000)\n",
    "\n",
    "# Plot convolutional encoder metrics\n",
    "conv_fig = plt.figure()\n",
    "plt.plot(history_conv['loss'], label='Training Loss')\n",
    "plt.plot(history_conv['val_loss'], label='Validation Loss')\n",
    "plt.legend(loc='upper right')\n",
    "plt.xlabel('Epochs')\n",
    "plt.ylabel('Mean Squared Error')\n",
    "plt.ylim([0,max(plt.ylim())])\n",
    "plt.title('Convolutional Autoencoder Train/Val Loss Metrics')\n",
    "plt.show()\n",
    "conv_fig.savefig(os.path.join(saved_figs_path,'conv_training_metrics.jpg'), dpi=2000)"
   ]
  },
  {
   "cell_type": "code",
   "execution_count": null,
   "metadata": {},
   "outputs": [],
   "source": [
    "# Modify test images for channel visualization\n",
    "test_V_X = reduce_to_V(test_HSV_X)\n",
    "test_rgbV_X = hsv2rgb_set(test_V_X)\n",
    "conv_test_V_X = reduce_to_V(conv_test_HSV_X)\n",
    "conv_test_rgbV_X = hsv2rgb_set(conv_test_V_X)\n",
    "conv_test_V_Y = reduce_to_V(conv_test_HSV_Y)\n",
    "conv_test_rgbV_Y = hsv2rgb_set(conv_test_V_Y)\n",
    "conv_test_RGB_Y = hsv2rgb_set(conv_test_HSV_Y)\n",
    "\n",
    "# Create a figure of sample test images\n",
    "plot_data = [test_RGB_X, test_rgbV_X, conv_test_rgbV_X, conv_test_rgbV_Y, conv_test_RGB_Y]\n",
    "plot_titles = [\"(a) Original low-light dataset images from ExDark (RGB colour channels).\",\n",
    "        \"(b) Original images reduced to only luminance channel (value channel of HSV).\",\n",
    "        \"(c) Images after stacked autoencoder modification (value channel of HSV).\",\n",
    "        \"(d) Images after convolutional autoencoder modification (value channel of HSV).\",\n",
    "        \"(e) Final images after dual network enhancement (RGB colour channels).\"]\n",
    "fig = create_plot(5, 5, plot_data, plot_titles, 5)\n",
    "fig.set_size_inches(8, 10)\n",
    "fig.savefig(os.path.join(saved_figs_path,'test_image_samples.jpg'), dpi=2000)\n",
    "plt.show()"
   ]
  }
 ],
 "metadata": {
  "kernelspec": {
   "display_name": "Python 3",
   "language": "python",
   "name": "python3"
  },
  "language_info": {
   "codemirror_mode": {
    "name": "ipython",
    "version": 3
   },
   "file_extension": ".py",
   "mimetype": "text/x-python",
   "name": "python",
   "nbconvert_exporter": "python",
   "pygments_lexer": "ipython3",
   "version": "3.6.6"
  }
 },
 "nbformat": 4,
 "nbformat_minor": 4
}
