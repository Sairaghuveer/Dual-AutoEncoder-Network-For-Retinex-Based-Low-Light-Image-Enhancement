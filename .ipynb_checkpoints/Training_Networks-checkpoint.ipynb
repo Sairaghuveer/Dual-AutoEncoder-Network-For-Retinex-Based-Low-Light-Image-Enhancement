{
 "cells": [
  {
   "cell_type": "code",
   "execution_count": 1,
   "metadata": {},
   "outputs": [
    {
     "ename": "NameError",
     "evalue": "name 'np' is not defined",
     "output_type": "error",
     "traceback": [
      "\u001b[1;31m---------------------------------------------------------------------------\u001b[0m",
      "\u001b[1;31mNameError\u001b[0m                                 Traceback (most recent call last)",
      "\u001b[1;32m<ipython-input-1-9a9fb109c9b5>\u001b[0m in \u001b[0;36m<module>\u001b[1;34m\u001b[0m\n\u001b[0;32m      9\u001b[0m \u001b[1;31m# Fix random seed for reproducibility\u001b[0m\u001b[1;33m\u001b[0m\u001b[1;33m\u001b[0m\u001b[0m\n\u001b[0;32m     10\u001b[0m \u001b[0mseed\u001b[0m \u001b[1;33m=\u001b[0m \u001b[1;36m7\u001b[0m\u001b[1;33m\u001b[0m\u001b[0m\n\u001b[1;32m---> 11\u001b[1;33m \u001b[0mnp\u001b[0m\u001b[1;33m.\u001b[0m\u001b[0mrandom\u001b[0m\u001b[1;33m.\u001b[0m\u001b[0mseed\u001b[0m\u001b[1;33m(\u001b[0m\u001b[0mseed\u001b[0m\u001b[1;33m)\u001b[0m\u001b[1;33m\u001b[0m\u001b[0m\n\u001b[0m\u001b[0;32m     12\u001b[0m \u001b[1;33m\u001b[0m\u001b[0m\n\u001b[0;32m     13\u001b[0m \u001b[0mdataset_npy_path\u001b[0m \u001b[1;33m=\u001b[0m \u001b[1;34m\"Dataset npys/\"\u001b[0m\u001b[1;33m\u001b[0m\u001b[0m\n",
      "\u001b[1;31mNameError\u001b[0m: name 'np' is not defined"
     ]
    }
   ],
   "source": [
    "import os\n",
    "import numpy as np\n",
    "import tensorflow.keras\n",
    "from tensorflow.keras import backend as K\n",
    "from tensorflow.keras.optimizers import Adam\n",
    "from tensorflow.keras.models import Model\n",
    "from tensorflow.keras.layers import Input,Conv2D,MaxPooling2D,UpSampling2D,Dense\n",
    "from img_helper import reduce_to_1\n",
    "\n",
    "K.set_image_data_format('channels_last')\n",
    "# Fix random seed for reproducibility\n",
    "seed = 7\n",
    "np.random.seed(seed)\n",
    "\n",
    "dataset_npy_path = \"Dataset npys/\"\n",
    "trained_models_path = \"trained models/\""
   ]
  },
  {
   "cell_type": "code",
   "execution_count": null,
   "metadata": {},
   "outputs": [],
   "source": [
    "# Image parameters\n",
    "img_width = 100\n",
    "img_height = img_width\n",
    "img_channels = 3"
   ]
  },
  {
   "cell_type": "code",
   "execution_count": null,
   "metadata": {},
   "outputs": [],
   "source": [
    "train_HSV_X = np.load(os.path.join(dataset_npy_path,\"train_HSV_X.npy\"))\n",
    "valid_HSV_X = np.load(os.path.join(dataset_npy_path,\"valid_HSV_X.npy\"))\n",
    "train_HSV_Y = np.load(os.path.join(dataset_npy_path,\"train_HSV_Y.npy\"))\n",
    "valid_HSV_Y = np.load(os.path.join(dataset_npy_path,\"valid_HSV_Y.npy\"))\n",
    "train_noisy_HSV_Y = np.load(os.path.join(dataset_npy_path,\"train_noisy_HSV_Y.npy\"))\n",
    "valid_noisy_HSV_Y = np.load(os.path.join(dataset_npy_path,\"valid_noisy_HSV_Y.npy\"))\n",
    "print(\"data loaded\")"
   ]
  },
  {
   "cell_type": "code",
   "execution_count": null,
   "metadata": {},
   "outputs": [],
   "source": [
    "# Stacked encoder parameters\n",
    "stack_epochs = 1000\n",
    "stack_batch_size = 512\n",
    "stack_input_img = Input(shape = (img_width, img_height))\n",
    "\n",
    "# Stacked encoder architecture\n",
    "def stacked_autoencoder(stack_input_img):\n",
    "\thidden = Dense(img_width, activation='relu')(stack_input_img)\n",
    "\treturn hidden\n",
    "\n",
    "# Build stacked model\n",
    "stack_encoder = Model(stack_input_img, stacked_autoencoder(stack_input_img))\n",
    "stack_encoder.compile(loss='mean_squared_error', optimizer='Adam')\n",
    "\n",
    "# Train stacked model\n",
    "stack_encoder_h = stack_encoder.fit(train_HSV_X[:,:,:,2], train_HSV_Y[:,:,:,2],\n",
    "\t\t\t\t\tbatch_size=stack_batch_size,\n",
    "\t\t\t\t\tepochs=stack_epochs,\n",
    "\t\t\t\t\tverbose=1,\n",
    "\t\t\t\t\tvalidation_data=(valid_HSV_X[:,:,:,2], valid_HSV_Y[:,:,:,2]))"
   ]
  },
  {
   "cell_type": "code",
   "execution_count": null,
   "metadata": {},
   "outputs": [],
   "source": [
    "stack_encoder.save(os.path.join(trained_models_path,\"stack_encoder.h5\"))\n",
    "print(\"Saved stack_encoder model to disk\")"
   ]
  },
  {
   "cell_type": "code",
   "execution_count": null,
   "metadata": {},
   "outputs": [],
   "source": [
    "# Convolutional encoder parameters\n",
    "conv_epochs = 20\n",
    "conv_batch_size = 128\n",
    "conv_input_img = Input(shape = (img_width, img_height, 1))\n",
    "\n",
    "# Convolutional encoder architecture\n",
    "def convolutional_autoencoder(conv_input_img):\n",
    "\tconv1 = Conv2D(64, (3, 3), activation='relu', padding='same')(conv_input_img)\n",
    "\tpool1 = MaxPooling2D(pool_size=(2, 2))(conv1)\n",
    "\tconv2 = Conv2D(64, (3, 3), activation='relu', padding='same')(pool1)\n",
    "\tup1 = UpSampling2D((2,2))(conv2)\n",
    "\tconv3 = Conv2D(1, (3, 3), activation='sigmoid', padding='same')(up1)\n",
    "\treturn conv3\n",
    "\n",
    "# Build convolutional model\n",
    "conv_encoder = Model(conv_input_img, convolutional_autoencoder(conv_input_img))\n",
    "conv_encoder.compile(loss='mean_squared_error', optimizer='Adam')\n",
    "\n",
    "# Train convolutional model\n",
    "conv_encoder_h = conv_encoder.fit(reduce_to_1(train_noisy_HSV_Y, 2), reduce_to_1(train_HSV_Y, 2),\n",
    "\t\t\t\t\tbatch_size=conv_batch_size,\n",
    "\t\t\t\t\tepochs=conv_epochs,\n",
    "\t\t\t\t\tverbose=1,\n",
    "\t\t\t\t\tvalidation_data=(reduce_to_1(valid_noisy_HSV_Y, 2), reduce_to_1(valid_HSV_Y, 2)))"
   ]
  },
  {
   "cell_type": "code",
   "execution_count": null,
   "metadata": {},
   "outputs": [],
   "source": [
    "conv_encoder.save(os.path.join(trained_models_path,\"conv_encoder.h5\"))\n",
    "print(\"Saved conv_encoder model to disk\")"
   ]
  }
 ],
 "metadata": {
  "kernelspec": {
   "display_name": "Python 3",
   "language": "python",
   "name": "python3"
  },
  "language_info": {
   "codemirror_mode": {
    "name": "ipython",
    "version": 3
   },
   "file_extension": ".py",
   "mimetype": "text/x-python",
   "name": "python",
   "nbconvert_exporter": "python",
   "pygments_lexer": "ipython3",
   "version": "3.6.6"
  }
 },
 "nbformat": 4,
 "nbformat_minor": 4
}
